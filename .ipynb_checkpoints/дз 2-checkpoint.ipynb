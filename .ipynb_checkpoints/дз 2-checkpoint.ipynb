{
 "cells": [
  {
   "cell_type": "code",
   "execution_count": 1,
   "id": "a2ce433d",
   "metadata": {},
   "outputs": [],
   "source": [
    "import numpy as np\n",
    "import matplotlib.pyplot as plt"
   ]
  },
  {
   "cell_type": "code",
   "execution_count": 2,
   "id": "289ce8e2",
   "metadata": {},
   "outputs": [],
   "source": [
    "X = np.array([[1, 1, 1, 1, 1, 1, 1, 1, 1, 1],\n",
    "              [1, 1, 2, 5, 3, 0, 5, 10, 1, 2],\n",
    "              [500, 700, 750, 600, 1450, 800, 1500, 2000, 450, 1000],\n",
    "              [1, 1, 2, 1, 2, 1, 3, 3, 1, 2]])"
   ]
  },
  {
   "cell_type": "code",
   "execution_count": 3,
   "id": "579e9cb6",
   "metadata": {},
   "outputs": [],
   "source": [
    "y = [45, 55, 50, 55, 60, 35, 75, 80, 50, 60]"
   ]
  },
  {
   "cell_type": "markdown",
   "id": "be5dffa5",
   "metadata": {},
   "source": [
    "Нормализация [0, 1]"
   ]
  },
  {
   "cell_type": "code",
   "execution_count": 4,
   "id": "2796615c",
   "metadata": {},
   "outputs": [
    {
     "data": {
      "text/plain": [
       "(0, 10)"
      ]
     },
     "execution_count": 4,
     "metadata": {},
     "output_type": "execute_result"
    }
   ],
   "source": [
    "X[1].min(), X[1].max()"
   ]
  },
  {
   "cell_type": "code",
   "execution_count": 5,
   "id": "7da7a272",
   "metadata": {},
   "outputs": [
    {
     "data": {
      "text/plain": [
       "(450, 2000)"
      ]
     },
     "execution_count": 5,
     "metadata": {},
     "output_type": "execute_result"
    }
   ],
   "source": [
    "X[2].min(), X[2].max()"
   ]
  },
  {
   "cell_type": "code",
   "execution_count": 6,
   "id": "7838f0c1",
   "metadata": {},
   "outputs": [
    {
     "data": {
      "text/plain": [
       "array([[1.00e+00, 1.00e+00, 1.00e+00, 1.00e+00, 1.00e+00, 1.00e+00,\n",
       "        1.00e+00, 1.00e+00, 1.00e+00, 1.00e+00],\n",
       "       [1.00e+00, 1.00e+00, 2.00e+00, 5.00e+00, 3.00e+00, 0.00e+00,\n",
       "        5.00e+00, 1.00e+01, 1.00e+00, 2.00e+00],\n",
       "       [5.00e+02, 7.00e+02, 7.50e+02, 6.00e+02, 1.45e+03, 8.00e+02,\n",
       "        1.50e+03, 2.00e+03, 4.50e+02, 1.00e+03],\n",
       "       [1.00e+00, 1.00e+00, 2.00e+00, 1.00e+00, 2.00e+00, 1.00e+00,\n",
       "        3.00e+00, 3.00e+00, 1.00e+00, 2.00e+00]])"
      ]
     },
     "execution_count": 6,
     "metadata": {},
     "output_type": "execute_result"
    }
   ],
   "source": [
    "X_norm = X.copy()\n",
    "X_norm = X_norm.astype(np.float64)\n",
    "X_norm"
   ]
  },
  {
   "cell_type": "code",
   "execution_count": 7,
   "id": "f0ee2142",
   "metadata": {},
   "outputs": [
    {
     "data": {
      "text/plain": [
       "array([[1.00e+00, 1.00e+00, 1.00e+00, 1.00e+00, 1.00e+00, 1.00e+00,\n",
       "        1.00e+00, 1.00e+00, 1.00e+00, 1.00e+00],\n",
       "       [1.00e-01, 1.00e-01, 2.00e-01, 5.00e-01, 3.00e-01, 0.00e+00,\n",
       "        5.00e-01, 1.00e+00, 1.00e-01, 2.00e-01],\n",
       "       [5.00e+02, 7.00e+02, 7.50e+02, 6.00e+02, 1.45e+03, 8.00e+02,\n",
       "        1.50e+03, 2.00e+03, 4.50e+02, 1.00e+03],\n",
       "       [1.00e+00, 1.00e+00, 2.00e+00, 1.00e+00, 2.00e+00, 1.00e+00,\n",
       "        3.00e+00, 3.00e+00, 1.00e+00, 2.00e+00]])"
      ]
     },
     "execution_count": 7,
     "metadata": {},
     "output_type": "execute_result"
    }
   ],
   "source": [
    "X_norm[1] = (X[1] - X[1].min()) / (X[1].max() - X[1].min())\n",
    "X_norm"
   ]
  },
  {
   "cell_type": "code",
   "execution_count": 8,
   "id": "973bd0ab",
   "metadata": {},
   "outputs": [
    {
     "data": {
      "text/plain": [
       "array([[1.        , 1.        , 1.        , 1.        , 1.        ,\n",
       "        1.        , 1.        , 1.        , 1.        , 1.        ],\n",
       "       [0.1       , 0.1       , 0.2       , 0.5       , 0.3       ,\n",
       "        0.        , 0.5       , 1.        , 0.1       , 0.2       ],\n",
       "       [0.03225806, 0.16129032, 0.19354839, 0.09677419, 0.64516129,\n",
       "        0.22580645, 0.67741935, 1.        , 0.        , 0.35483871],\n",
       "       [1.        , 1.        , 2.        , 1.        , 2.        ,\n",
       "        1.        , 3.        , 3.        , 1.        , 2.        ]])"
      ]
     },
     "execution_count": 8,
     "metadata": {},
     "output_type": "execute_result"
    }
   ],
   "source": [
    "X_norm[2] = (X[2] - X[2].min()) / (X[2].max() - X[2].min())\n",
    "X_norm"
   ]
  },
  {
   "cell_type": "markdown",
   "id": "9f6b4195",
   "metadata": {},
   "source": [
    "Стандартизация"
   ]
  },
  {
   "cell_type": "code",
   "execution_count": 9,
   "id": "e8a3d031",
   "metadata": {},
   "outputs": [
    {
     "data": {
      "image/png": "[encoded data removed]",
      "text/plain": [
       "<Figure size 432x288 with 1 Axes>"
      ]
     },
     "metadata": {
      "needs_background": "light"
     },
     "output_type": "display_data"
    }
   ],
   "source": [
    "plt.hist(X[1])\n",
    "plt.show()"
   ]
  },
  {
   "cell_type": "code",
   "execution_count": 10,
   "id": "15a82a5f",
   "metadata": {},
   "outputs": [
    {
     "data": {
      "image/png": "[encoded data removed]",
      "text/plain": [
       "<Figure size 432x288 with 1 Axes>"
      ]
     },
     "metadata": {
      "needs_background": "light"
     },
     "output_type": "display_data"
    }
   ],
   "source": [
    "plt.hist(X[2])\n",
    "plt.show()"
   ]
  },
  {
   "cell_type": "code",
   "execution_count": 11,
   "id": "6b4b2b24",
   "metadata": {},
   "outputs": [
    {
     "name": "stdout",
     "output_type": "stream",
     "text": [
      "3.0 2.8284271247461903\n"
     ]
    }
   ],
   "source": [
    "X_st = X.copy().astype(np.float64)\n",
    "X1_mean = X[1].mean()\n",
    "X1_std = X[1].std()\n",
    "print(X1_mean, X1_std)"
   ]
  },
  {
   "cell_type": "code",
   "execution_count": 12,
   "id": "90d5a75f",
   "metadata": {},
   "outputs": [
    {
     "data": {
      "text/plain": [
       "array([[ 1.00000000e+00,  1.00000000e+00,  1.00000000e+00,\n",
       "         1.00000000e+00,  1.00000000e+00,  1.00000000e+00,\n",
       "         1.00000000e+00,  1.00000000e+00,  1.00000000e+00,\n",
       "         1.00000000e+00],\n",
       "       [-7.07106781e-01, -7.07106781e-01, -3.53553391e-01,\n",
       "         7.07106781e-01,  0.00000000e+00, -1.06066017e+00,\n",
       "         7.07106781e-01,  2.47487373e+00, -7.07106781e-01,\n",
       "        -3.53553391e-01],\n",
       "       [ 5.00000000e+02,  7.00000000e+02,  7.50000000e+02,\n",
       "         6.00000000e+02,  1.45000000e+03,  8.00000000e+02,\n",
       "         1.50000000e+03,  2.00000000e+03,  4.50000000e+02,\n",
       "         1.00000000e+03],\n",
       "       [ 1.00000000e+00,  1.00000000e+00,  2.00000000e+00,\n",
       "         1.00000000e+00,  2.00000000e+00,  1.00000000e+00,\n",
       "         3.00000000e+00,  3.00000000e+00,  1.00000000e+00,\n",
       "         2.00000000e+00]])"
      ]
     },
     "execution_count": 12,
     "metadata": {},
     "output_type": "execute_result"
    }
   ],
   "source": [
    "X_st[1] = (X[1] - X1_mean) / X1_std\n",
    "X_st"
   ]
  },
  {
   "cell_type": "code",
   "execution_count": 13,
   "id": "345d6678",
   "metadata": {},
   "outputs": [
    {
     "data": {
      "image/png": "[encoded data removed]",
      "text/plain": [
       "<Figure size 432x288 with 1 Axes>"
      ]
     },
     "metadata": {
      "needs_background": "light"
     },
     "output_type": "display_data"
    }
   ],
   "source": [
    "plt.hist(X_st[1])\n",
    "plt.show()"
   ]
  },
  {
   "cell_type": "code",
   "execution_count": 14,
   "id": "dcaac6ab",
   "metadata": {},
   "outputs": [
    {
     "data": {
      "text/plain": [
       "array([[ 1.        ,  1.        ,  1.        ,  1.        ,  1.        ,\n",
       "         1.        ,  1.        ,  1.        ,  1.        ,  1.        ],\n",
       "       [-0.70710678, -0.70710678, -0.35355339,  0.70710678,  0.        ,\n",
       "        -1.06066017,  0.70710678,  2.47487373, -0.70710678, -0.35355339],\n",
       "       [-0.97958969, -0.56713087, -0.46401617, -0.77336028,  0.97958969,\n",
       "        -0.36090146,  1.08270439,  2.11385144, -1.08270439,  0.05155735],\n",
       "       [-0.89625816, -0.89625816,  0.38411064, -0.89625816,  0.38411064,\n",
       "        -0.89625816,  1.66447944,  1.66447944, -0.89625816,  0.38411064]])"
      ]
     },
     "execution_count": 14,
     "metadata": {},
     "output_type": "execute_result"
    }
   ],
   "source": [
    "def calc_std_fit(x):\n",
    "    res = (x - x.mean()) / x.std()\n",
    "    return res\n",
    "X_st[2] = calc_std_fit(X[2])\n",
    "X_st[3] = calc_std_fit(X[3])\n",
    "X_st"
   ]
  },
  {
   "cell_type": "markdown",
   "id": "483dc6c6",
   "metadata": {},
   "source": [
    "SGD (Stochastic gradient descent)"
   ]
  },
  {
   "cell_type": "code",
   "execution_count": 15,
   "id": "e72902a0",
   "metadata": {},
   "outputs": [],
   "source": [
    "def calc_mse(y, y_pred):\n",
    "    err = np.mean((y - y_pred)**2)\n",
    "    return err"
   ]
  },
  {
   "cell_type": "code",
   "execution_count": 16,
   "id": "7121b0a4",
   "metadata": {},
   "outputs": [],
   "source": [
    "def eval_model(X, y, iterations, alpha=1e-4):\n",
    "    W = np.random.randn(X.shape[0])\n",
    "    n = X.shape[1]\n",
    "    for i in range(1, iterations+1):\n",
    "        y_pred = np.dot(W, X)\n",
    "        err = calc_mse(y, y_pred)\n",
    "        W -= (alpha * (1/n * 2 * np.dot((y_pred - y), X.T)))\n",
    "        if i % (iterations / 10) == 0:\n",
    "            print(i, W, err)\n",
    "    return W"
   ]
  },
  {
   "cell_type": "code",
   "execution_count": 17,
   "id": "f6dd1729",
   "metadata": {},
   "outputs": [
    {
     "name": "stdout",
     "output_type": "stream",
     "text": [
      "100 [48.90763741  4.35223231  2.7938091   5.14363453] 87.09351223332162\n",
      "200 [55.49310425  5.08825141  2.11709436  5.19889496] 27.098562555398026\n",
      "300 [56.36646593  5.51071184  1.59785486  5.32773982] 25.588332182151593\n",
      "400 [56.48229077  5.76634125  1.20235333  5.48868017] 25.31914667563323\n",
      "500 [56.49765141  5.92579368  0.8953224   5.65077215] 25.171398747283302\n",
      "600 [56.49968853  6.02877456  0.65352206  5.79995499] 25.079312983989897\n",
      "700 [56.49995869  6.09782223  0.46109452  5.93097292] 25.019917893608906\n",
      "800 [56.49999452  6.14588606  0.30681654  6.04296648] 24.98099577943345\n",
      "900 [56.49999927  6.18052925  0.18247939  6.13712503] 24.955298323911443\n",
      "1000 [56.4999999   6.2062657   0.0819103   6.21546099] 24.938273047162262\n"
     ]
    },
    {
     "data": {
      "text/plain": [
       "array([56.4999999 ,  6.2062657 ,  0.0819103 ,  6.21546099])"
      ]
     },
     "execution_count": 17,
     "metadata": {},
     "output_type": "execute_result"
    }
   ],
   "source": [
    "eval_model(X_st, y, iterations=1000, alpha=1e-2)"
   ]
  },
  {
   "cell_type": "code",
   "execution_count": 18,
   "id": "cb39ebc7",
   "metadata": {},
   "outputs": [],
   "source": [
    "def eval_sgd_model(X, y, iterations, qty_in_batch, alpha=1e-4):\n",
    "    W = np.random.randn(X.shape[0])\n",
    "    n = X.shape[1]\n",
    "    n_batch = n // qty_in_batch\n",
    "    \n",
    "    if n % qty_in_batch != 0:\n",
    "        n_batch += 1\n",
    "        \n",
    "    for i in range(1, iterations+1):\n",
    "        for b in range(n_batch):\n",
    "            start_ = qty_in_batch*b\n",
    "            end_ = qty_in_batch*(b+1)\n",
    "#             print(b, n_batch, start_, end_)\n",
    "            X_tmp = X[:, start_ : end_]\n",
    "            y_tmp = y[start_ : end_]\n",
    "\n",
    "            y_pred_tmp = np.dot(W, X_tmp)\n",
    "            err = calc_mse(y_tmp, y_pred_tmp)\n",
    "\n",
    "            W -= (alpha * (1/n * 2 * np.dot((y_pred_tmp - y_tmp), X_tmp.T)))\n",
    "        \n",
    "        if i % (iterations / 10) == 0:\n",
    "            print(i, W, err)\n",
    "    return W"
   ]
  },
  {
   "cell_type": "code",
   "execution_count": 19,
   "id": "5084e7bc",
   "metadata": {},
   "outputs": [
    {
     "name": "stdout",
     "output_type": "stream",
     "text": [
      "500 [56.50807804  5.97335199  0.83389449  5.68178806] 12.76156470412581\n",
      "1000 [56.51050236  6.2207813   0.05702325  6.24079621] 11.84190381478199\n",
      "1500 [56.51057679  6.28119175 -0.21340789  6.45996173] 11.488491884493364\n",
      "2000 [56.51060462  6.30145884 -0.31022953  6.53972914] 11.360782048928158\n",
      "2500 [56.51061469  6.30867466 -0.34503626  6.56847191] 11.314918372924677\n",
      "3000 [56.51061831  6.31126662 -0.35755635  6.5788142 ] 11.298437241383144\n",
      "3500 [56.51061962  6.31219885 -0.36206025  6.58253484] 11.292511038801333\n",
      "4000 [56.51062009  6.3125342  -0.36368046  6.5838733 ] 11.290379525708587\n",
      "4500 [56.51062025  6.31265484 -0.36426332  6.5843548 ] 11.289612787878209\n",
      "5000 [56.51062032  6.31269823 -0.36447299  6.58452801] 11.28933696942726\n"
     ]
    },
    {
     "data": {
      "text/plain": [
       "array([56.51062032,  6.31269823, -0.36447299,  6.58452801])"
      ]
     },
     "execution_count": 19,
     "metadata": {},
     "output_type": "execute_result"
    }
   ],
   "source": [
    "eval_sgd_model(X_st, y, iterations=5000, qty_in_batch=4, alpha=1e-2)"
   ]
  },
  {
   "cell_type": "markdown",
   "id": "3bc29bf5",
   "metadata": {},
   "source": [
    "L1 регуляризация\n",
    "\n",
    "L2 регуляризация"
   ]
  },
  {
   "cell_type": "code",
   "execution_count": 25,
   "id": "2bbb4386",
   "metadata": {},
   "outputs": [],
   "source": [
    "def eval_model_reg2(X, y, iterations, alpha=1e-4, lambda_=1e-8):\n",
    "    np.random.seed(42)\n",
    "    W = np.random.randn(X.shape[0])\n",
    "    n = X.shape[1]\n",
    "    for i in range(1, iterations+1):\n",
    "        y_pred = np.dot(W, X)\n",
    "        err = calc_mse(y, y_pred)\n",
    "        W -= alpha * (1/n * 2 * np.dot((y_pred - y), X.T) + lambda_ * W) \n",
    "        if i % (iterations / 10) == 0:\n",
    "            print(i, W, err)\n",
    "    return W"
   ]
  },
  {
   "cell_type": "code",
   "execution_count": 26,
   "id": "68843327",
   "metadata": {},
   "outputs": [
    {
     "name": "stdout",
     "output_type": "stream",
     "text": [
      "500 [56.49487895  5.89947315  1.04054601  5.5270874 ] 25.23755832331096\n",
      "1000 [56.49717505  6.19501568  0.13564839  6.17098435] 24.947089650389493\n",
      "1500 [56.49717514  6.26565597 -0.17868956  6.42516923] 24.910200887020064\n",
      "2000 [56.49717514  6.28924463 -0.29120292  6.51776763] 24.905377672807827\n",
      "2500 [56.49717514  6.29763759 -0.33165155  6.55113988] 24.904735047224676\n",
      "3000 [56.49717514  6.30065228 -0.3462019   6.56314895] 24.904645262343745\n",
      "3500 [56.49717514  6.3017366  -0.35143648  6.56746949] 24.904631263168568\n",
      "4000 [56.49717514  6.30212668 -0.35331967  6.56902387] 24.904628595590758\n",
      "4500 [56.49717514  6.30226702 -0.35399717  6.56958307] 24.904627942486606\n",
      "5000 [56.49717514  6.30231751 -0.35424091  6.56978425] 24.904627747206018\n"
     ]
    },
    {
     "data": {
      "text/plain": [
       "array([56.49717514,  6.30231751, -0.35424091,  6.56978425])"
      ]
     },
     "execution_count": 26,
     "metadata": {},
     "output_type": "execute_result"
    }
   ],
   "source": [
    "eval_model_reg2(X_st, y, iterations=5000, alpha=1e-2, lambda_=1e-4)"
   ]
  },
  {
   "cell_type": "code",
   "execution_count": 27,
   "id": "d6b46906",
   "metadata": {},
   "outputs": [
    {
     "name": "stdout",
     "output_type": "stream",
     "text": [
      "500 [56.49767254  5.83477719  1.36781865  5.25424451] 25.413829625514786\n",
      "1000 [56.4999999   6.17124081  0.25269258  6.07416416] 24.969784391475397\n",
      "1500 [56.5         6.2575128  -0.13774522  6.39128671] 24.913059475565493\n",
      "2000 [56.5         6.28678323 -0.27772011  6.50655795] 24.905712417850083\n",
      "2500 [56.5         6.29722767 -0.32807425  6.54810646] 24.904760553791704\n",
      "3000 [56.5         6.30098239 -0.34619733  6.56306445] 24.904637232271696\n",
      "3500 [56.5         6.30233363 -0.3527205   6.5684486 ] 24.904621254991206\n",
      "4000 [56.5         6.30281999 -0.35506846  6.57038658] 24.904619185007867\n",
      "4500 [56.5         6.30299505 -0.35591359  6.57108415] 24.904618916825108\n",
      "5000 [56.5         6.30305806 -0.35621778  6.57133523] 24.90461888207993\n"
     ]
    },
    {
     "data": {
      "text/plain": [
       "array([56.5       ,  6.30305806, -0.35621778,  6.57133523])"
      ]
     },
     "execution_count": 27,
     "metadata": {},
     "output_type": "execute_result"
    }
   ],
   "source": [
    "eval_model(X_st, y, iterations=5000, alpha=1e-2)"
   ]
  },
  {
   "cell_type": "markdown",
   "id": "06549241",
   "metadata": {},
   "source": [
    "1. Постройте график зависимости весов всех признаков от lambda в L2-регуляризации (на данных из урока)."
   ]
  },
  {
   "cell_type": "code",
   "execution_count": 28,
   "id": "b8ce711c",
   "metadata": {},
   "outputs": [
    {
     "name": "stdout",
     "output_type": "stream",
     "text": [
      "500 [5.82648382 0.69004235 1.39337798 2.29860074] 2652.6394770871943\n",
      "1000 [10.64876944  1.34419334  1.9554282   2.89457402] 2164.8601481834853\n",
      "1500 [15.01189206  1.86367288  2.37613509  3.35229244] 1770.4218242821632\n",
      "2000 [18.95957176  2.27892917  2.68809748  3.70361793] 1450.4015267532934\n",
      "2500 [22.53136571  2.61344468  2.91643939  3.9731044 ] 1190.1185231808204\n",
      "3000 [25.76306458  2.88533212  3.08052314  4.17967266] 978.0360436371415\n",
      "3500 [28.68705116  3.10856457  3.19526972  4.33790149] 804.9956561914845\n",
      "4000 [31.33262487  3.29392384  3.2721767   4.45902282] 663.6698066437887\n",
      "4500 [33.72629529  3.44973143  3.32010284  4.55168893] 548.160772016505\n",
      "5000 [35.89204789  3.58241206  3.34587289  4.6225637 ] 453.7003503308968\n",
      "500 [5.8263935  0.69003673 1.3933512  2.29854807] 2652.6497396591762\n",
      "1000 [10.64845635  1.34416859  1.9553651   2.89445841] 2164.890915910438\n",
      "1500 [15.0112498   1.86362195  2.37603283  3.35211018] 1770.4777336690033\n",
      "2000 [18.95851621  2.27884911  2.68795741  3.70336939] 1450.4835950522622\n",
      "2500 [22.52983176  2.61333507  2.91626539  3.97279241] 1190.22549198849\n",
      "3000 [25.76100326  2.88519395  3.0803204   4.17930135] 978.1652995575944\n",
      "3500 [28.68442718  3.10839956  3.19504404  4.33747558] 805.1438628445446\n",
      "4000 [31.32941443  3.29373398  3.27193398  4.45854714] 663.8333351032609\n",
      "4500 [33.72248424  3.44951869  3.31984879  4.55116809] 548.3359883093576\n",
      "5000 [35.88763007  3.58217821  3.34561287  4.622002  ] 453.8838007998246\n",
      "500 [5.82625036 0.69002782 1.39330877 2.29846461] 2652.666004357161\n",
      "1000 [10.64796017  1.34412937  1.9552651   2.8942752 ] 2164.939677500449\n",
      "1500 [15.01023197  1.86354123  2.37587076  3.35182132] 1770.566339464669\n",
      "2000 [18.95684345  2.27872224  2.68773544  3.70297552] 1450.613656992582\n",
      "2500 [22.52740091  2.61316136  2.91598964  3.972298  ] 1190.3950163062466\n",
      "3000 [25.75773677  2.88497498  3.07999913  4.17871298] 978.3701459214457\n",
      "3500 [28.68026915  3.10813807  3.19468642  4.33680071] 805.3787458939512\n",
      "4000 [31.32432719  3.2934331   3.27154936  4.45779339] 664.0925064598175\n",
      "4500 [33.7164454   3.44918153  3.31944622  4.55034282] 548.6136920277133\n",
      "5000 [35.88062993  3.5818076   3.34520082  4.62111199] 454.17456694987567\n",
      "500 [5.82602351 0.69001371 1.39324153 2.29833234] 2652.6917812055417\n",
      "1000 [10.64717384  1.34406721  1.95510663  2.89398486] 2165.0169544618175\n",
      "1500 [15.00861901  1.86341331  2.37561393  3.35136359] 1770.7067586052035\n",
      "2000 [18.95419271  2.27852117  2.6873837   3.7023514 ] 1450.8197723160824\n",
      "2500 [22.52354902  2.61288607  2.91555269  3.9715146 ] 1190.663669579731\n",
      "3000 [25.75256093  2.88462799  3.07949005  4.17778071] 978.6947792319879\n",
      "3500 [28.67368087  3.10772368  3.19411976  4.33573142] 805.7509886462199\n",
      "4000 [31.31626688  3.29295629  3.27093993  4.4565992 ] 664.5032558206035\n",
      "4500 [33.70687768  3.44864724  3.31880835  4.54903534] 549.0538342533279\n",
      "5000 [35.86953952  3.5812203   3.34454795  4.61970201] 454.6354421862746\n",
      "500 [5.825664   0.68999133 1.39313496 2.29812272] 2652.7326323439174\n",
      "1000 [10.64592776  1.34396869  1.9548555   2.89352478] 2165.1394177570337\n",
      "1500 [15.00606313  1.86321059  2.37520696  3.35063831] 1770.9292788541377\n",
      "2000 [18.94999263  2.27820254  2.68682636  3.70136253] 1451.1463954611668\n",
      "2500 [22.51744607  2.61244983  2.91486037  3.97027345] 1191.089394357133\n",
      "3000 [25.74436075  2.88407812  3.07868347  4.17630381] 979.2092222561175\n",
      "3500 [28.66324353  3.10706704  3.19322199  4.33403755] 806.3408988053569\n",
      "4000 [31.30349823  3.29220075  3.26997443  4.45470755] 665.1542254838257\n",
      "4500 [33.69172188  3.44780061  3.31779781  4.54696439] 549.7514412075278\n",
      "5000 [35.85197262  3.58028969  3.34351365  4.6174688 ] 455.3659850491343\n",
      "500 [5.82509427 0.68995587 1.39296609 2.29779054] 2652.7973709739153\n",
      "1000 [10.64395325  1.34381257  1.95445758  2.89279578] 2165.3334777682576\n",
      "1500 [15.00201354  1.86288934  2.37456217  3.34948924] 1771.2818766135285\n",
      "2000 [18.94333857  2.27769766  2.68594339  3.69979602] 1451.6639386167708\n",
      "2500 [22.50777825  2.61175861  2.91376363  3.9683075 ] 1191.76396694724\n",
      "3000 [25.73137187  2.88320689  3.07740581  4.17396465] 980.0243932902506\n",
      "3500 [28.64671249  3.10602664  3.19179994  4.33135501] 807.2757052336156\n",
      "4000 [31.28327651  3.29100368  3.26844514  4.45171209] 666.1858813062855\n",
      "4500 [33.66772168  3.44645924  3.31619724  4.54368527] 550.8571440843791\n",
      "5000 [35.8241566   3.57881525  3.34187546  4.6139331 ] 456.52407872734756\n",
      "500 [5.82419147 0.68989968 1.39269849 2.29726419] 2652.8999595647606\n",
      "1000 [10.64082488  1.34356517  1.95382714  2.89164088] 2165.640963720877\n",
      "1500 [14.99559844  1.86238033  2.37354075  3.34766915] 1771.8405228823972\n",
      "2000 [18.93279921  2.27689773  2.68454486  3.69731515] 1452.4838886805678\n",
      "2500 [22.49246763  2.61066353  2.9120267   3.96519453] 1192.83270109466\n",
      "3000 [25.71080471  2.88182668  3.07538255  4.1702613 ] 981.3159341007597\n",
      "3500 [28.62054022  3.1043785   3.1895482   4.32710866] 808.7569249179929\n",
      "4000 [31.25126549  3.28910739  3.26602376  4.44697109] 667.820787889241\n",
      "4500 [33.62973441  3.44433439  3.31366309  4.53849606] 552.6097365629217\n",
      "5000 [35.78013547  3.57647962  3.3392818   4.60833864] 458.36018156186026\n",
      "500 [5.82276101 0.68981062 1.39227452 2.29643026] 2653.0625132920704\n",
      "1000 [10.6358693   1.34317317  1.95282853  2.88981166] 2166.12809913555\n",
      "1500 [14.98543887  1.86157391  2.37192319  3.34478718] 1772.72545664895\n",
      "2000 [18.91611201  2.27563057  2.68233052  3.69338793] 1453.782666865915\n",
      "2500 [22.46823161  2.608929    2.90927706  3.96026796] 1194.5255466145882\n",
      "3000 [25.67825524  2.87964071  3.07218012  4.16440184] 983.3618350446432\n",
      "3500 [28.57912933  3.10176831  3.18598459  4.32039167] 811.1036177766812\n",
      "4000 [31.20062732  3.28610433  3.26219206  4.43947337] 670.4115319264373\n",
      "4500 [33.56965523  3.44096945  3.3096532   4.53029139] 555.3878185569831\n",
      "5000 [35.71052784  3.57278094  3.33517787  4.59949517] 461.2718036761982\n",
      "500 [5.82049485 0.68966948 1.39160289 2.29510929] 2653.3200475807416\n",
      "1000 [10.62802163  1.34255214  1.95124727  2.88691551] 2166.8996621466076\n",
      "1500 [14.9693563   1.86029664  2.36936276  3.34022629] 1774.1268247322537\n",
      "2000 [18.88970612  2.27362391  2.67882655  3.68717549] 1455.8391944211328\n",
      "2500 [22.42989454  2.60618262  2.90492723  3.9524778 ] 1197.2060507910805\n",
      "3000 [25.6267863   2.87617996  3.06711523  4.15514015] 986.6017127268788\n",
      "3500 [28.51367131  3.09763635  3.18034961  4.30977855] 814.8206344217442\n",
      "4000 [31.12061135  3.28135073  3.25613409  4.42763103] 674.5165110136593\n",
      "4500 [33.47475303  3.43564324  3.3033142   4.51733707] 559.7917300624761\n",
      "5000 [35.60061053  3.56692657  3.3286905   4.58553715] 465.8902920761322\n",
      "500 [5.81690563 0.68944584 1.39053928 2.29301751] 2653.7279708707\n",
      "1000 [10.61559996  1.3415685   1.94874471  2.8823329 ] 2168.121265533386\n",
      "1500 [14.94391547  1.85827431  2.3653128   3.33301461] 1776.3449374228283\n",
      "2000 [18.84795974  2.2704477   2.67328693  3.67735897] 1459.0938037736755\n",
      "2500 [22.36932079  2.60183663  2.89805339  3.94017612] 1201.4481322090644\n",
      "3000 [25.54551011  2.87070456  3.0591145   4.14052377] 991.7298557834562\n",
      "3500 [28.4103622   3.09109994  3.17145117  4.29303937] 820.7059812537625\n",
      "4000 [30.99439503  3.27383171  3.24657007  4.40896395] 681.0195791890982\n",
      "4500 [33.32513514  3.42721901  3.29330816  4.49692874] 566.7735193402971\n",
      "5000 [35.42741086  3.55766726  3.31845101  4.56355976] 473.21933892772705\n",
      "500 [5.81122317 0.68909147 1.38885568 2.28970679] 2654.3738806535125\n",
      "1000 [10.5959532   1.34001109  1.94478739  2.87508865] 2170.054260835845\n",
      "1500 [14.90371548  1.85507418  2.35891424  3.32162707] 1779.8531145473567\n",
      "2000 [18.78205673  2.26542408  2.66454178  3.66187465] 1464.2400307624043\n",
      "2500 [22.27378397  2.59496553  2.88720957  3.92079143] 1208.1556707131435\n",
      "3000 [25.41743696  2.86205054  3.04650057  4.11751406] 999.8403724870641\n",
      "3500 [28.24771363  3.08077136  3.15742902  4.26671275] 830.0188545342093\n",
      "4000 [30.79585303  3.26195239  3.231505    4.37963211] 691.3182626515819\n",
      "4500 [33.08998012  3.41391094  3.27755097  4.4648895 ] 577.8428263390074\n",
      "5000 [35.15541622  3.54304082  3.30232805  4.52908738] 484.8563215736\n",
      "500 [5.80223225 0.68853007 1.38619264 2.28447102] 2655.3960605351012\n",
      "1000 [10.56491595  1.33754667  1.93853791  2.8636541 ] 2173.110038334938\n",
      "1500 [14.84030541  1.85001501  2.34882369  3.30368445] 1785.3948980005703\n",
      "2000 [18.67825814  2.25748814  2.6507679   3.63751782] 1472.3661310478906\n",
      "2500 [22.12353052  2.58411786  2.87014912  3.89034809] 1218.7467361353656\n"
     ]
    },
    {
     "name": "stdout",
     "output_type": "stream",
     "text": [
      "3000 [25.21629967  2.84839484  3.02667422  4.08143331] 1012.6512096161307\n",
      "3500 [27.99263196  3.0644794   3.13540678  4.22549229] 844.7401630100679\n",
      "4000 [30.48490365  3.2432194   3.20785943  4.33377262] 707.6176665734164\n",
      "4500 [32.72217842  3.39292867  3.25282936  4.41486751] 595.3914783115786\n",
      "5000 [34.7305463   3.5199824   3.27703718  4.47534051] 503.3454053737713\n",
      "500 [5.78802065 0.68764089 1.38198526 2.27620138] 2657.0122998981087\n",
      "1000 [10.51597718  1.33365068  1.92868925  2.84564847] 2177.9335419669333\n",
      "1500 [14.74056198  1.84202859  2.33295712  3.27550985] 1794.1321429292086\n",
      "2000 [18.51536756  2.24497563  2.62915237  3.59937235] 1485.1693898776934\n",
      "2500 [21.8882806   2.5670315   2.84342263  3.8427908 ] 1235.432008034041\n",
      "3000 [24.90208943  2.82690264  2.99566157  4.02520622] 1032.843339257904\n",
      "3500 [27.59502683  3.03885384  3.10100241  4.16140606] 867.9692225263656\n",
      "4000 [30.00125504  3.21376768  3.17095483  4.26263575] 733.382099044226\n",
      "4500 [32.15129916  3.35995105  3.21427048  4.33744491] 623.1983221135417\n",
      "5000 [34.07243435  3.48374919  3.23760177  4.39233143] 532.7346669855283\n",
      "500 [5.76559198 0.68623313 1.37535014 2.26316608] 2659.5643320840845\n",
      "1000 [10.4390425   1.32750064  1.91321988  2.81740247] 2185.529302124537\n",
      "1500 [14.58435396  1.82945073  2.3081227   3.23150688] 1807.8648209560931\n",
      "2000 [18.26121052  2.22530771  2.59542497  3.5400452 ] 1505.2706712242662\n",
      "2500 [21.52255149  2.5402171   2.80183487  3.76911929] 1261.6211925483994\n",
      "3000 [24.41533362  2.7932176   2.94751846  3.93843594] 1064.555953195567\n",
      "3500 [26.98120715  2.99873135  3.04769877  4.06287022] 904.5059528154454\n",
      "4000 [29.25711548  3.1676902   3.11386416  4.15364688] 774.0041743379015\n",
      "4500 [31.27582711  3.30838685  3.15468142  4.2192331 ] 667.1865907312609\n",
      "5000 [33.06640741  3.42711813  3.17668577  4.26601297] 579.4240563946917\n",
      "500 [5.73028259 0.68400573 1.36491683 2.24268406] 2663.585188496768\n",
      "1000 [10.31866787  1.31781545  1.88904893  2.77335604] 2197.4455375464504\n",
      "1500 [14.3414068   1.80971577  2.26953286  3.1633673 ] 1829.3424464537366\n",
      "2000 [17.86823105  2.19454379  2.54327261  3.44877751] 1536.6499184588088\n",
      "2500 [20.96027594  2.49838332  2.7378043   3.65648971] 1302.4772710929244\n",
      "3000 [23.67114012  2.74077638  2.87366844  3.80656963] 1114.0567181524968\n",
      "3500 [26.04781475  2.93637527  2.96618181  3.9139778 ] 961.6379983837742\n",
      "4000 [28.131498    3.09617672  3.02676072  3.98986333] 837.7125747089783\n",
      "4500 [29.95830922  3.22844398  3.06390947  4.0425301 ] 736.4576936112069\n",
      "5000 [31.55991506  3.33939562  3.08395845  4.07815832] 653.3308646965042\n",
      "500 [5.67491202 0.68048511 1.34858639 2.21066293] 2669.89835604161\n",
      "1000 [10.13172793  1.30262085  1.85159246  2.70531591] 2216.027651999906\n",
      "1500 [13.96765861  1.77893628  2.21024961  3.05926128] 1862.6670938435923\n",
      "2000 [17.26920044  2.14680174  2.46376546  3.31076367] 1585.1794776374754\n",
      "2500 [20.11079987  2.43373539  2.64083996  3.48782142] 1365.5640813953764\n",
      "3000 [22.55653213  2.66002234  2.76247173  3.61090977] 1190.4949676307665\n",
      "3500 [24.66154603  2.84063581  2.84401552  3.69499195] 1049.996847721561\n",
      "4000 [26.4733075   2.98664652  2.89669073  3.75099347] 936.5311642644149\n",
      "4500 [28.03266996  3.10625661  2.92868726  3.7868829 ] 844.3530093503678\n",
      "5000 [29.37479546  3.20555843  2.94597621  3.80846399] 769.0511911349159\n",
      "500 [5.58861719 0.67492993 1.3232109  2.16099929] 2679.756392468279\n",
      "1000 [9.8448091  1.27892797 1.79429808 2.60176459] 2244.72795053094\n",
      "1500 [13.40245138  1.73139231  2.12079132  2.90352815] 1913.7147116491396\n",
      "2000 [16.37619385  2.07364894  2.3452061   3.10758641] 1659.0873996120386\n",
      "2500 [18.86186935  2.33536324  2.49772978  3.24321257] 1461.2944954899533\n",
      "3000 [20.93958212  2.53787252  2.59977956  3.33113198] 1306.289816980899\n",
      "3500 [22.67628925  2.69656169  2.66653522  3.3859956 ] 1183.8464058073948\n",
      "4000 [24.12795845  2.82255731  2.70874197  3.41814001] 1086.4277458383858\n",
      "4500 [25.34137171  2.92393589  2.73399352  3.43483961] 1008.4181646733389\n",
      "5000 [26.35563292  3.00658623  2.7476452   3.44119722] 945.5898541383579\n",
      "500 [5.45543069 0.66618948 1.28423054 2.08493693] 2695.0161401288315\n",
      "1000 [9.41249224 1.24234753 1.70842739 2.44781198] 2288.3819634551082\n",
      "1500 [12.57023193  1.65909113  1.98950449  2.6781188 ] 1990.3023349108694\n",
      "2000 [15.09011187  1.96385424  2.17434412  2.82064911] 1768.8109248703272\n",
      "2500 [17.10097898  2.18940292  2.29466488  2.90551739] 1602.2935180761926\n",
      "3000 [18.70565326  2.35845682  2.37189879  2.95290828] 1475.84504360643\n",
      "3500 [19.9861852   2.48684176  2.42050367  2.97629707] 1379.0009788189955\n",
      "4000 [21.00805116  2.58564216  2.45021232  2.98463315] 1304.2929940805038\n",
      "4500 [21.82350139  2.66267224  2.46755922  2.98381942] 1246.310758254837\n",
      "5000 [22.47423162  2.7234829   2.47691642  2.97771358] 1201.0812419623333\n",
      "500 [5.25299577 0.65250494 1.22542326 1.97073578] 2718.3128596740426\n",
      "1000 [8.77955662 1.18677441 1.58374667 2.22714534] 2353.1742680597413\n",
      "1500 [11.39433693  1.55189936  1.80490107  2.36805755] 2101.3974539052333\n",
      "2000 [13.33307451  1.80451772  1.94053043  2.44027131] 1924.9733620987622\n",
      "2500 [14.77055794  1.98156575  2.02301609  2.47248618] 1799.7575616979725\n",
      "3000 [15.83638483  2.10729735  2.07262318  2.48214359] 1709.9872531431604\n",
      "3500 [16.62664573  2.19776649  2.1020039   2.47971277] 1645.1219630063383\n",
      "4000 [17.21258731  2.26369732  2.11903343  2.47136979] 1597.9672104821557\n",
      "4500 [17.64703565  2.31232781  2.12859447  2.46066734] 1563.5272099715335\n",
      "5000 [17.96915882  2.34859881  2.13369919  2.44957156] 1538.2836294433305\n",
      "500 [4.95258954 0.6312648  1.13918112 1.80454927] 2753.1073791657004\n",
      "1000 [7.89306751 1.10455914 1.41133829 1.92827178] 2445.656857512181\n",
      "1500 [9.83351916 1.39941433 1.56153091 1.97326375] 2254.0356594581835\n",
      "2000 [11.11404316  1.58553427  1.644071    1.98109007] 2132.5195353926165\n",
      "2500 [11.95907411  1.70456842  1.68919887  1.97306725] 2054.518948266511\n",
      "3000 [12.51671872  1.7816741   1.71371501  1.95972144] 2004.0280625874336\n",
      "3500 [12.88471413  1.83222724  1.72692797  1.94593398] 1971.15500672369\n",
      "4000 [13.12755809  1.8657442   1.73397805  1.93371232] 1949.6671704206237\n",
      "4500 [13.28781331  1.88819197  1.73769207  1.92366112] 1935.582939662189\n",
      "5000 [13.39356738  1.90336165  1.73961658  1.91574781] 1926.333923543551\n",
      "500 [4.52305636 0.59880811 1.0181556  1.57425961] 2803.3020076295984\n",
      "1000 [6.73196383 0.98812635 1.18983717 1.55693139] 2569.7844352450197\n",
      "1500 [7.94380126 1.19644256 1.26937296 1.52441123] 2446.6752573502663\n",
      "2000 [8.60863217 1.30930203 1.30622662 1.49476007] 2380.7229371510944\n",
      "2500 [8.97336768 1.3711613  1.32331995 1.47234865] 2345.0607028387794\n",
      "3000 [9.17346666 1.40542956 1.3312658  1.45681158] 2325.673127637209\n",
      "3500 [9.28324375 1.42459488 1.33497449 1.44655323] 2315.0999667551537\n",
      "4000 [9.343469   1.43540358 1.33671714 1.43998472] 2309.3229599898705\n",
      "4500 [9.3765094  1.44154358 1.33754441 1.43586447] 2306.162830471645\n",
      "5000 [9.39463583 1.44505298 1.337943   1.43331691] 2304.432891231483\n"
     ]
    }
   ],
   "source": [
    "n = 21\n",
    "coeffs = np.zeros((n, X_st.shape[0]))\n",
    "lambda_list = np.logspace(-3, 1, n)\n",
    "for i, val in enumerate(lambda_list):\n",
    "    W = eval_model_reg2(X_st, y, iterations=5000, alpha=1e-4, lambda_=val)\n",
    "    coeffs[i, :] = W"
   ]
  },
  {
   "cell_type": "code",
   "execution_count": 29,
   "id": "4d3e889c",
   "metadata": {},
   "outputs": [
    {
     "data": {
      "image/png": "[encoded data removed]",
      "text/plain": [
       "<Figure size 1080x720 with 1 Axes>"
      ]
     },
     "metadata": {
      "needs_background": "light"
     },
     "output_type": "display_data"
    }
   ],
   "source": [
    "# Убывание абсолютных значений весов признаков\\n при увеличении коэффициента регуляризации\n",
    "plt.figure(figsize=(15, 10))\n",
    "for i in range(X_st.shape[0]):\n",
    "    plt.plot(lambda_list, coeffs[:, i])\n",
    "plt.title('График зависимости весов всех признаков от lambda в L2-регуляризации')\n",
    "plt.xlabel('lambda')\n",
    "plt.ylabel('Вес признака');"
   ]
  },
  {
   "cell_type": "markdown",
   "id": "a470cdf7",
   "metadata": {},
   "source": [
    "2. Можно ли к одному и тому же признаку применить сразу и нормализацию, и стандартизацию?\n",
    "\n",
    "\n",
    "\n",
    "На выходе получим результат только от конечной функции, то есть применение сразу нормализацию и стандартизацию не имеет смысла"
   ]
  },
  {
   "cell_type": "markdown",
   "id": "1db4a3ff",
   "metadata": {},
   "source": [
    "3*. Напишите функцию наподобие eval_model_reg2, но для применения L1-регуляризации."
   ]
  },
  {
   "cell_type": "code",
   "execution_count": 30,
   "id": "b398d5c9",
   "metadata": {},
   "outputs": [],
   "source": [
    "def eval_model_reg1(X, y, iterations, alpha=1e-4, lambda_=1e-8):\n",
    "    np.random.seed(42)\n",
    "    W = np.random.randn(X.shape[0])\n",
    "    n = X.shape[1]\n",
    "    for i in range(1, iterations+1):\n",
    "        y_pred = np.dot(W, X)\n",
    "        err = calc_mse(y, y_pred)\n",
    "        if 0 in W:\n",
    "            break\n",
    "        else:\n",
    "            W -= alpha * (1/n * 2 * np.dot((y_pred - y), X.T) + lambda_ * W / abs(W)) \n",
    "        if i % (iterations / 10) == 0:\n",
    "            print(W, err)\n",
    "    return W"
   ]
  },
  {
   "cell_type": "code",
   "execution_count": 31,
   "id": "01c4b864",
   "metadata": {},
   "outputs": [
    {
     "name": "stdout",
     "output_type": "stream",
     "text": [
      "[5.82663819 0.69005193 1.39342371 2.29869073] 2652.6219370376966\n",
      "[10.64930466  1.34423559  1.95553601  2.89477161] 2164.8075526128023\n",
      "[15.01299009  1.86375987  2.37630985  3.352604  ] 1770.3262432420136\n",
      "[18.96137646  2.27906593  2.68833685  3.7040428 ] 1450.2612195869815\n",
      "[22.53398846  2.61363197  2.91673679  3.97363776] 1189.9356414024817\n",
      "[25.76658915  2.88556821  3.08086966  4.18030744] 977.815056728532\n",
      "[28.69153795  3.10884654  3.19565546  4.33862964] 804.7422708245024\n",
      "[31.33811461  3.2942483   3.27259158  4.45983612] 663.3902304928009\n",
      "[33.73281224  3.45009503  3.32053709  4.55257946] 547.8612219527605\n",
      "[35.8996026   3.58281175  3.34631736  4.62352414] 453.38673525959274\n"
     ]
    },
    {
     "data": {
      "text/plain": [
       "array([35.8996026 ,  3.58281175,  3.34631736,  4.62352414])"
      ]
     },
     "execution_count": 31,
     "metadata": {},
     "output_type": "execute_result"
    }
   ],
   "source": [
    "eval_model_reg1(X_st, y, iterations=5000, alpha=1e-4, lambda_=1e-6)"
   ]
  }
 ],
 "metadata": {
  "kernelspec": {
   "display_name": "Python 3 (ipykernel)",
   "language": "python",
   "name": "python3"
  },
  "language_info": {
   "codemirror_mode": {
    "name": "ipython",
    "version": 3
   },
   "file_extension": ".py",
   "mimetype": "text/x-python",
   "name": "python",
   "nbconvert_exporter": "python",
   "pygments_lexer": "ipython3",
   "version": "3.9.7"
  }
 },
 "nbformat": 4,
 "nbformat_minor": 5
}
