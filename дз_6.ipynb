{
 "cells": [
  {
   "cell_type": "code",
   "execution_count": 1,
   "id": "334d8858",
   "metadata": {},
   "outputs": [],
   "source": [
    "import numpy as np\n",
    "import matplotlib.pyplot as plt\n",
    "from sklearn.tree import DecisionTreeRegressor\n",
    "from sklearn import model_selection\n",
    "from sklearn.datasets import load_diabetes"
   ]
  },
  {
   "cell_type": "markdown",
   "id": "1bb6603c",
   "metadata": {},
   "source": [
    "1. Для реализованной модели градиентного бустинга постройте графики зависимости ошибки от количества деревьев в ансамбле и от максимальной глубины деревьев. Сделайте выводы о зависимости ошибки от этих параметров."
   ]
  },
  {
   "cell_type": "code",
   "execution_count": 2,
   "id": "83b329d2",
   "metadata": {},
   "outputs": [],
   "source": [
    "# Используем один из \"игрушечных\" датасетов из той же библиотеки.\n",
    "X, y = load_diabetes(return_X_y=True)"
   ]
  },
  {
   "cell_type": "code",
   "execution_count": 3,
   "id": "f8aba878",
   "metadata": {},
   "outputs": [],
   "source": [
    "# Разделим выборку на обучающую и тестовую в соотношении 75/25.\n",
    "X_train, X_test, y_train, y_test = model_selection.train_test_split(X, y, test_size=0.25)"
   ]
  },
  {
   "cell_type": "code",
   "execution_count": 4,
   "id": "4941c006",
   "metadata": {},
   "outputs": [
    {
     "name": "stdout",
     "output_type": "stream",
     "text": [
      "(331, 10) (331,)\n"
     ]
    }
   ],
   "source": [
    "print(X_train.shape, y_train.shape)"
   ]
  },
  {
   "cell_type": "code",
   "execution_count": 5,
   "id": "04f1c3c0",
   "metadata": {},
   "outputs": [],
   "source": [
    "# Напишем функцию, реализующую предсказание в градиентном бустинге.\n",
    "def gb_predict(X, trees_list, coef_list, eta):\n",
    "    # Реализуемый алгоритм градиентного бустинга будет инициализироваться нулевыми значениями,\n",
    "    # поэтому все деревья из списка trees_list уже являются дополнительными и при предсказании прибавляются с шагом eta\n",
    "    return np.array([sum([eta* coef * alg.predict([x])[0] for alg, coef in zip(trees_list, coef_list)]) for x in X])"
   ]
  },
  {
   "cell_type": "code",
   "execution_count": 7,
   "id": "9e329959",
   "metadata": {},
   "outputs": [],
   "source": [
    "# В качестве функционала ошибки будем использовать среднеквадратичную ошибку. Реализуем соответствующую функцию.\n",
    "def mean_squared_error(y_real, prediction):\n",
    "    return (sum((y_real - prediction)**2)) / len(y_real)"
   ]
  },
  {
   "cell_type": "code",
   "execution_count": 8,
   "id": "89a6239b",
   "metadata": {},
   "outputs": [],
   "source": [
    "def bias(y, z):\n",
    "    return (y - z)"
   ]
  },
  {
   "cell_type": "code",
   "execution_count": 9,
   "id": "d2ca7302",
   "metadata": {},
   "outputs": [],
   "source": [
    "# Реализуем функцию обучения градиентного бустинга.\n",
    "def gb_fit(n_trees, max_depth, X_train, X_test, y_train, y_test, coefs, eta):\n",
    "    \n",
    "    # Деревья будем записывать в список\n",
    "    trees = []\n",
    "    \n",
    "    # Будем записывать ошибки на обучающей и тестовой выборке на каждой итерации в список\n",
    "    train_errors = []\n",
    "    test_errors = []\n",
    "    \n",
    "    for i in range(n_trees):\n",
    "        tree = DecisionTreeRegressor(max_depth=max_depth, random_state=42)\n",
    "\n",
    "        # инициализируем бустинг начальным алгоритмом, возвращающим ноль, \n",
    "        # поэтому первый алгоритм просто обучаем на выборке и добавляем в список\n",
    "        if len(trees) == 0:\n",
    "            # обучаем первое дерево на обучающей выборке\n",
    "            tree.fit(X_train, y_train)\n",
    "            \n",
    "            train_errors.append(mean_squared_error(y_train, gb_predict(X_train, trees, coefs, eta)))\n",
    "            test_errors.append(mean_squared_error(y_test, gb_predict(X_test, trees, coefs, eta)))\n",
    "        else:\n",
    "            # Получим ответы на текущей композиции\n",
    "            target = gb_predict(X_train, trees, coefs, eta)\n",
    "            \n",
    "            # алгоритмы начиная со второго обучаем на сдвиг\n",
    "            tree.fit(X_train, bias(y_train, target))\n",
    "            \n",
    "            train_errors.append(mean_squared_error(y_train, gb_predict(X_train, trees, coefs, eta)))\n",
    "            test_errors.append(mean_squared_error(y_test, gb_predict(X_test, trees, coefs, eta)))\n",
    "\n",
    "        trees.append(tree)\n",
    "        \n",
    "    return trees, train_errors, test_errors"
   ]
  },
  {
   "cell_type": "code",
   "execution_count": 10,
   "id": "d69da3a1",
   "metadata": {},
   "outputs": [],
   "source": [
    "# Теперь обучим несколько моделей с разными параметрами и исследуем их поведение.\n",
    "# Число деревьев в ансамбле\n",
    "n_trees = 10\n",
    "\n",
    "# для простоты примем коэффициенты равными 1\n",
    "coefs = [1] * n_trees\n",
    "\n",
    "# Максимальная глубина деревьев\n",
    "max_depth = 3\n",
    "\n",
    "# Шаг\n",
    "eta = 1\n",
    "\n",
    "trees, train_errors, test_errors = gb_fit(n_trees, max_depth, X_train, X_test, y_train, y_test, coefs, eta)"
   ]
  },
  {
   "cell_type": "code",
   "execution_count": 11,
   "id": "4b7eeddb",
   "metadata": {},
   "outputs": [],
   "source": [
    "def evaluate_alg(X_train, X_test, y_train, y_test, trees, coefs, eta):\n",
    "    train_prediction = gb_predict(X_train, trees, coefs, eta)\n",
    "\n",
    "    print(f'Ошибка алгоритма из {n_trees} деревьев глубиной {max_depth} \\\n",
    "    с шагом {eta} на тренировочной выборке: {mean_squared_error(y_train, train_prediction)}')\n",
    "\n",
    "    test_prediction = gb_predict(X_test, trees, coefs, eta)\n",
    "\n",
    "    print(f'Ошибка алгоритма из {n_trees} деревьев глубиной {max_depth} \\\n",
    "    с шагом {eta} на тестовой выборке: {mean_squared_error(y_test, test_prediction)}')"
   ]
  },
  {
   "cell_type": "code",
   "execution_count": 12,
   "id": "3aaeba6c",
   "metadata": {},
   "outputs": [
    {
     "name": "stdout",
     "output_type": "stream",
     "text": [
      "Ошибка алгоритма из 10 деревьев глубиной 3     с шагом 1 на тренировочной выборке: 1148.4384324544983\n",
      "Ошибка алгоритма из 10 деревьев глубиной 3     с шагом 1 на тестовой выборке: 4422.38106465535\n"
     ]
    }
   ],
   "source": [
    "evaluate_alg(X_train, X_test, y_train, y_test, trees, coefs, eta)"
   ]
  },
  {
   "cell_type": "code",
   "execution_count": 14,
   "id": "697a4e4f",
   "metadata": {},
   "outputs": [],
   "source": [
    "# Построим графики зависимости ошибки на обучающей и тестовой выборках от числа итераций.\n",
    "import matplotlib.pyplot as plt\n",
    "import matplotlib\n",
    "%matplotlib inline"
   ]
  },
  {
   "cell_type": "code",
   "execution_count": 15,
   "id": "84492d79",
   "metadata": {},
   "outputs": [],
   "source": [
    "def get_error_plot(n_trees, train_err, test_err):\n",
    "    plt.xlabel('Iteration number')\n",
    "    plt.ylabel('MSE')\n",
    "    plt.xlim(0, n_trees)\n",
    "    plt.plot(list(range(n_trees)), train_err, label='train error')\n",
    "    plt.plot(list(range(n_trees)), test_err, label='test error')\n",
    "    plt.legend(loc='upper right')\n",
    "    plt.show()"
   ]
  },
  {
   "cell_type": "code",
   "execution_count": 16,
   "id": "fbc48acc",
   "metadata": {},
   "outputs": [
    {
     "data": {
      "image/png": "[encoded data removed]",
      "text/plain": [
       "<Figure size 432x288 with 1 Axes>"
      ]
     },
     "metadata": {
      "needs_background": "light"
     },
     "output_type": "display_data"
    }
   ],
   "source": [
    "get_error_plot(n_trees, train_errors, test_errors)"
   ]
  },
  {
   "cell_type": "code",
   "execution_count": 21,
   "id": "03af5f7e",
   "metadata": {},
   "outputs": [],
   "source": [
    "# Вносим изменения\n",
    "n_trees = 20\n",
    "coefs = [1] * n_trees\n",
    "max_depth = 10\n",
    "eta = 0.1\n",
    "train_errors_arr = []\n",
    "test_errors_arr = []\n",
    "\n",
    "for i in list(range(1, max_depth)):\n",
    "    trees, train_errors, test_errors = gb_fit(n_trees, i, X_train, X_test, y_train, y_test, coefs, eta)\n",
    "    train_prediction = gb_predict(X_train, trees, coefs, eta)\n",
    "    test_prediction = gb_predict(X_test, trees, coefs, eta)\n",
    "    train_err = mean_squared_error(y_train, train_prediction)\n",
    "    test_err = mean_squared_error(y_test, test_prediction)\n",
    "    train_errors_arr.append(train_err)\n",
    "    test_errors_arr.append(test_err)"
   ]
  },
  {
   "cell_type": "code",
   "execution_count": 22,
   "id": "04ec5fa6",
   "metadata": {},
   "outputs": [],
   "source": [
    "def depth_error_plot(max_depth, train_err, test_err):\n",
    "    plt.xlabel('tree_depth')\n",
    "    plt.ylabel('MSE')\n",
    "    plt.xlim(0, max_depth)\n",
    "    plt.plot(list(range(1, max_depth)), train_err, label='train error')\n",
    "    plt.plot(list(range(1, max_depth)), test_err, label='test error')\n",
    "    plt.title('Зависимость ошибки от максимальной глубины деревьев')\n",
    "    plt.legend(loc='upper right')\n",
    "    plt.show()"
   ]
  },
  {
   "cell_type": "code",
   "execution_count": 23,
   "id": "9e98aac4",
   "metadata": {},
   "outputs": [
    {
     "data": {
      "image/png": "[encoded data removed]",
      "text/plain": [
       "<Figure size 432x288 with 1 Axes>"
      ]
     },
     "metadata": {
      "needs_background": "light"
     },
     "output_type": "display_data"
    }
   ],
   "source": [
    "depth_error_plot(max_depth, train_errors_arr, test_errors_arr)"
   ]
  },
  {
   "cell_type": "markdown",
   "id": "b0c26e2b",
   "metadata": {},
   "source": [
    "1.При увеличении количества деревье ошибка на трейне уменьшается.\n",
    "\n",
    "2.Ошибка на тренировочной выборке уменьшается при увеличении глубины дерева, но на тестовой выборке начинает расти."
   ]
  },
  {
   "cell_type": "markdown",
   "id": "94307fc0",
   "metadata": {},
   "source": [
    "2. Модифицировать реализованный алгоритм, чтобы получился стохастический градиентный бустинг. \n",
    "\n",
    "Размер подвыборки принять равным 0.5. \n",
    "\n",
    "Сравнить на одном графике кривые изменения ошибки на тестовой выборке в зависимости от числа итераций."
   ]
  },
  {
   "cell_type": "code",
   "execution_count": 45,
   "id": "204074a3",
   "metadata": {},
   "outputs": [],
   "source": [
    "def sgb_fit(subsample_value, n_trees, max_depth, X_train, X_test, y_train, y_test, coefs, eta):\n",
    "    \n",
    "    trees = []\n",
    "    \n",
    "    train_errors = []\n",
    "    test_errors = []\n",
    "    \n",
    "    for i in range(n_trees):\n",
    "        tree = DecisionTreeRegressor(max_depth=max_depth, random_state=42)\n",
    "                        \n",
    "        # генерируем случайную подвыборку\n",
    "        qtt = int(X_train.shape[0] * subsample_value)\n",
    "        train_ind = np.random.randint(X_train.shape[0], size=qtt)\n",
    "    \n",
    "        if len(trees) == 0:\n",
    "            # обучаем первое дерево на обучающей выборке\n",
    "            tree.fit(X_train[train_ind], y_train[train_ind])\n",
    "            \n",
    "            train_errors.append(mean_squared_error(y_train, gb_predict(X_train, trees, coefs, eta)))\n",
    "            test_errors.append(mean_squared_error(y_test, gb_predict(X_test, trees, coefs, eta)))\n",
    "        else:\n",
    "            # Получим ответы на текущей композиции\n",
    "            target = gb_predict(X_train, trees, coefs, eta)\n",
    "            \n",
    "            # алгоритмы начиная со второго обучаем на сдвиг\n",
    "            tree.fit(X_train[train_ind], bias(y_train[train_ind], target[train_ind]))\n",
    "            \n",
    "            train_errors.append(\n",
    "                mean_squared_error(\n",
    "                    y_train, gb_predict(X_train, trees, coefs, eta)\n",
    "                )\n",
    "            )\n",
    "            test_errors.append(\n",
    "                mean_squared_error(\n",
    "                    y_test, gb_predict(X_test, trees, coefs, eta)\n",
    "                )\n",
    "            )\n",
    "\n",
    "        trees.append(tree)\n",
    "        \n",
    "    return trees, train_errors, test_errors"
   ]
  },
  {
   "cell_type": "code",
   "execution_count": 46,
   "id": "cabf126b",
   "metadata": {},
   "outputs": [],
   "source": [
    "# Число деревьев в ансамбле\n",
    "n_trees = 10\n",
    "\n",
    "# для простоты примем коэффициенты равными 1\n",
    "coefs = [1] * n_trees\n",
    "\n",
    "# Максимальная глубина деревьев\n",
    "max_depth = 3\n",
    "\n",
    "# Шаг\n",
    "eta = 1"
   ]
  },
  {
   "cell_type": "code",
   "execution_count": 47,
   "id": "de5299cc",
   "metadata": {},
   "outputs": [],
   "source": [
    "trees, train_errors, test_errors = sgb_fit(0.5, n_trees, max_depth, X_train, X_test, y_train, y_test, coefs, eta)"
   ]
  },
  {
   "cell_type": "code",
   "execution_count": 48,
   "id": "c9b24c63",
   "metadata": {},
   "outputs": [
    {
     "name": "stdout",
     "output_type": "stream",
     "text": [
      "Ошибка алгоритма из 10 деревьев глубиной 3     с шагом 1 на тренировочной выборке: 4237.156947300436\n",
      "Ошибка алгоритма из 10 деревьев глубиной 3     с шагом 1 на тестовой выборке: 10225.588990918704\n"
     ]
    }
   ],
   "source": [
    "evaluate_alg(X_train, X_test, y_train, y_test, trees, coefs, eta)"
   ]
  },
  {
   "cell_type": "code",
   "execution_count": 49,
   "id": "6941f41f",
   "metadata": {},
   "outputs": [
    {
     "data": {
      "image/png": "[encoded data removed]",
      "text/plain": [
       "<Figure size 432x288 with 1 Axes>"
      ]
     },
     "metadata": {
      "needs_background": "light"
     },
     "output_type": "display_data"
    }
   ],
   "source": [
    "get_error_plot(n_trees, train_errors, test_errors)"
   ]
  },
  {
   "cell_type": "code",
   "execution_count": null,
   "id": "b05ca237",
   "metadata": {},
   "outputs": [],
   "source": []
  }
 ],
 "metadata": {
  "kernelspec": {
   "display_name": "Python 3 (ipykernel)",
   "language": "python",
   "name": "python3"
  },
  "language_info": {
   "codemirror_mode": {
    "name": "ipython",
    "version": 3
   },
   "file_extension": ".py",
   "mimetype": "text/x-python",
   "name": "python",
   "nbconvert_exporter": "python",
   "pygments_lexer": "ipython3",
   "version": "3.9.7"
  }
 },
 "nbformat": 4,
 "nbformat_minor": 5
}
